{
  "nbformat": 4,
  "nbformat_minor": 0,
  "metadata": {
    "colab": {
      "name": "Get Data.ipynb",
      "provenance": []
    },
    "kernelspec": {
      "name": "python3",
      "display_name": "Python 3"
    }
  },
  "cells": [
    {
      "cell_type": "code",
      "metadata": {
        "id": "CAS-gniDFBXa"
      },
      "source": [
        "import tweepy\n",
        "from tweepy import OAuthHandler\n",
        "\n",
        "consumer_key = '<DROP CONSUMER KEY HERE>'\n",
        "consumer_secret = '<DROP CONSUMER SECRET HERE>'\n",
        "access_token = '<DROP ACCESS TOKEN HERE>'\n",
        "access_secret = '<DROP ACCESS SECRET HERE>'\n",
        "\n",
        "auth = OAuthHandler(consumer_key, consumer_secret)\n",
        "auth.set_access_token(access_token, access_secret)\n",
        "api = tweepy.API(auth, wait_on_rate_limit=True)"
      ],
      "execution_count": null,
      "outputs": []
    },
    {
      "cell_type": "code",
      "metadata": {
        "id": "_Pde6SOKFEma"
      },
      "source": [
        "tweets = []\n",
        "for status in tweepy.Cursor(api.user_timeline, id='<DROP ID TWITTER HERE>', tweet_mode='extended').items():\n",
        "  if len(tweets) < 200:\n",
        "    if hasattr(status, \"retweeted_status\"):\n",
        "      continue\n",
        "    else:\n",
        "      if status.lang=='in':\n",
        "        tweets.append(status.full_text)\n",
        "      else:\n",
        "        continue\n",
        "  else :\n",
        "    break"
      ],
      "execution_count": null,
      "outputs": []
    }
  ]
}